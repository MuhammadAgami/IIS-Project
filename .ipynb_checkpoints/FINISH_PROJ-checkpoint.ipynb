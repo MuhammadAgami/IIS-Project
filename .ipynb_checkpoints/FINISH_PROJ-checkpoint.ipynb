{
 "cells": [
  {
   "cell_type": "code",
   "execution_count": 2,
   "id": "b6c9e455",
   "metadata": {},
   "outputs": [],
   "source": [
    "from experta import*"
   ]
  },
  {
   "cell_type": "code",
   "execution_count": 3,
   "id": "b98145f8",
   "metadata": {},
   "outputs": [
    {
     "name": "stdout",
     "output_type": "stream",
     "text": [
      "HEllo Now You Can Find Your Favourite Book  \n",
      " Let's Try \n"
     ]
    },
    {
     "name": "stdin",
     "output_type": "stream",
     "text": [
      "--> do you love book's  yes\n",
      "do you love Industries books? yes\n",
      "do you love Chemical Industries books ? yes\n"
     ]
    },
    {
     "name": "stdout",
     "output_type": "stream",
     "text": [
      "Handbook Of Chemical Industries\n"
     ]
    },
    {
     "name": "stdin",
     "output_type": "stream",
     "text": [
      "do you love Basic Metal-Production books? yes\n"
     ]
    },
    {
     "name": "stdout",
     "output_type": "stream",
     "text": [
      "i recommend Principles Of Extractive Metallurgy to you\n"
     ]
    },
    {
     "name": "stdin",
     "output_type": "stream",
     "text": [
      "do you love Plant_Sciences book  yes\n",
      "do you love Epigenetics book  yes\n"
     ]
    },
    {
     "name": "stdout",
     "output_type": "stream",
     "text": [
      "you may love introduction to Epigenetics book \n",
      "\n"
     ]
    },
    {
     "name": "stdin",
     "output_type": "stream",
     "text": [
      "do you love Cytology book  yes\n"
     ]
    },
    {
     "name": "stdout",
     "output_type": "stream",
     "text": [
      "you may love Cytology,5th Edition book \n",
      "\n",
      "you may love Plant_Sciences book \n",
      "\n"
     ]
    },
    {
     "name": "stdin",
     "output_type": "stream",
     "text": [
      "--> do you love MedicaScience yes\n",
      "--> do you love InternalMedicine  yes\n"
     ]
    },
    {
     "name": "stdout",
     "output_type": "stream",
     "text": [
      "****You May love pocket medicine Book ****\n",
      "\n"
     ]
    },
    {
     "name": "stdin",
     "output_type": "stream",
     "text": [
      "--> do you love Pediatric's  yes\n"
     ]
    },
    {
     "name": "stdout",
     "output_type": "stream",
     "text": [
      "****YOU May Love Illustrated Textbook of Pediatrics Book  ****\n",
      "\n"
     ]
    },
    {
     "name": "stdin",
     "output_type": "stream",
     "text": [
      "--> do you love Religions   yes\n",
      "--> do you love theQuran  yes\n"
     ]
    },
    {
     "name": "stdout",
     "output_type": "stream",
     "text": [
      "****You May love the Quran Books ****\n",
      "\n"
     ]
    },
    {
     "name": "stdin",
     "output_type": "stream",
     "text": [
      "--> do you love theTorah   yes\n"
     ]
    },
    {
     "name": "stdout",
     "output_type": "stream",
     "text": [
      "****YOU May Love the Torah Book ****\n",
      "\n"
     ]
    },
    {
     "name": "stdin",
     "output_type": "stream",
     "text": [
      "--> do you love EconomicsScience yes\n",
      "--> do you love MacoroeconoMic's  yes\n"
     ]
    },
    {
     "name": "stdout",
     "output_type": "stream",
     "text": [
      "****You May love Principles of MicoroeconoMic's 3e Book ****\n",
      "\n"
     ]
    },
    {
     "name": "stdin",
     "output_type": "stream",
     "text": [
      "--> do you love MicoroeconoMic's  yes\n"
     ]
    },
    {
     "name": "stdout",
     "output_type": "stream",
     "text": [
      "****YOU May Love Principles of MicoroeconoMic's 2e  Book ****\n",
      "\n"
     ]
    },
    {
     "name": "stdin",
     "output_type": "stream",
     "text": [
      "do you love History books? yes\n",
      "do you love Biography books? yes\n"
     ]
    },
    {
     "name": "stdout",
     "output_type": "stream",
     "text": [
      "i recommend Autobiography to you\n"
     ]
    },
    {
     "name": "stdin",
     "output_type": "stream",
     "text": [
      "do you love social history books? yes\n"
     ]
    },
    {
     "name": "stdout",
     "output_type": "stream",
     "text": [
      " i recommend Race and ethnicity to you\n"
     ]
    },
    {
     "name": "stdin",
     "output_type": "stream",
     "text": [
      "--> do you love Engineering yes\n",
      "--> do you love Architecture yes\n"
     ]
    },
    {
     "name": "stdout",
     "output_type": "stream",
     "text": [
      "****YOU May Love The Architecture of the the city Book ****\n",
      "\n"
     ]
    },
    {
     "name": "stdin",
     "output_type": "stream",
     "text": [
      "--> do you love civilEngineering  yes\n"
     ]
    },
    {
     "name": "stdout",
     "output_type": "stream",
     "text": [
      "****You May love Pipefitter's Blue Book ****\n",
      "\n"
     ]
    },
    {
     "name": "stdin",
     "output_type": "stream",
     "text": [
      "do you love Geology books? yes\n",
      "do you love structural Geology books? yes\n"
     ]
    },
    {
     "name": "stdout",
     "output_type": "stream",
     "text": [
      "i recommend Structural Mapping to you\n"
     ]
    },
    {
     "name": "stdin",
     "output_type": "stream",
     "text": [
      "do you love volcanology Geology books? yes\n"
     ]
    },
    {
     "name": "stdout",
     "output_type": "stream",
     "text": [
      " i recommend introduction to volcanology to you\n"
     ]
    },
    {
     "name": "stdin",
     "output_type": "stream",
     "text": [
      "--> do you love MatheMatics  yes\n",
      "--> do you love Algebra  yes\n"
     ]
    },
    {
     "name": "stdout",
     "output_type": "stream",
     "text": [
      "****YOU May Love Abstract algebra Book ****\n",
      "\n"
     ]
    },
    {
     "name": "stdin",
     "output_type": "stream",
     "text": [
      "--> do you love Calulus  yes\n"
     ]
    },
    {
     "name": "stdout",
     "output_type": "stream",
     "text": [
      "****You May love intermediate calculus Book****\n",
      "\n"
     ]
    },
    {
     "name": "stdin",
     "output_type": "stream",
     "text": [
      "--> do you love Encyelodia   yes\n",
      "--> do you love OnlineElcyloepedia   yes\n"
     ]
    },
    {
     "name": "stdout",
     "output_type": "stream",
     "text": [
      "****YOU May Love Eductional platforms Book ****\n",
      "\n"
     ]
    },
    {
     "name": "stdin",
     "output_type": "stream",
     "text": [
      "--> do you love GeneralElcyloepedia  yes\n"
     ]
    },
    {
     "name": "stdout",
     "output_type": "stream",
     "text": [
      "****You May love Elcyloepedia year Books ****\n",
      "\n"
     ]
    },
    {
     "name": "stdin",
     "output_type": "stream",
     "text": [
      "do you love Animal _sciences book  yes\n"
     ]
    },
    {
     "name": "stdout",
     "output_type": "stream",
     "text": [
      "you may love introduction to Epigenetics book \n",
      "\n",
      "you may love Animal_Sciences book \n",
      "\n"
     ]
    },
    {
     "name": "stdin",
     "output_type": "stream",
     "text": [
      "do you love physiology book  yes\n"
     ]
    },
    {
     "name": "stdout",
     "output_type": "stream",
     "text": [
      "you may love Gray's Anatomy for Students international Edition book \n",
      "\n"
     ]
    },
    {
     "name": "stdin",
     "output_type": "stream",
     "text": [
      "do you love Fine Arts books? yes\n",
      "do you love drawing books ? yes\n"
     ]
    },
    {
     "name": "stdout",
     "output_type": "stream",
     "text": [
      "i recommend The Art Book to you \n"
     ]
    },
    {
     "name": "stdin",
     "output_type": "stream",
     "text": [
      "do you love Language books  yes\n",
      "do you love English Languge book  yes\n"
     ]
    },
    {
     "name": "stdout",
     "output_type": "stream",
     "text": [
      "you may love English for Everyone Language book \n",
      " \n"
     ]
    },
    {
     "name": "stdin",
     "output_type": "stream",
     "text": [
      "do you love German Languge book  yes\n"
     ]
    },
    {
     "name": "stdout",
     "output_type": "stream",
     "text": [
      "you may love German All-in-One language book \n",
      "\n"
     ]
    },
    {
     "name": "stdin",
     "output_type": "stream",
     "text": [
      "--> do you love Pyschology yes\n",
      "--> do you love SocialPsyclogy yes\n"
     ]
    },
    {
     "name": "stdout",
     "output_type": "stream",
     "text": [
      "****YOU May Love Outhiers Book ****\n",
      "\n"
     ]
    },
    {
     "name": "stdin",
     "output_type": "stream",
     "text": [
      "--> do you love HealthPsyclogy yes\n"
     ]
    },
    {
     "name": "stdout",
     "output_type": "stream",
     "text": [
      "****You May love why we sleep Book ****\n",
      "\n"
     ]
    },
    {
     "name": "stdin",
     "output_type": "stream",
     "text": [
      "--> do you love Law yes\n",
      "--> do you love FamilyLaw yes\n"
     ]
    },
    {
     "name": "stdout",
     "output_type": "stream",
     "text": [
      "****YOU May Love Family Law and Parctice Book ****\n",
      "\n"
     ]
    },
    {
     "name": "stdin",
     "output_type": "stream",
     "text": [
      "--> do you love CriminalLaw  yes\n"
     ]
    },
    {
     "name": "stdout",
     "output_type": "stream",
     "text": [
      "****You May love Criminal Law Book****\n",
      "\n"
     ]
    },
    {
     "name": "stdin",
     "output_type": "stream",
     "text": [
      "--> do you love ComputerScience's  yes\n",
      "--> do you love Database  yes\n",
      "--> do you love NoSqlDB  yes\n"
     ]
    },
    {
     "name": "stdout",
     "output_type": "stream",
     "text": [
      "****YOU May Love NoSql For Dummies Book ****\n",
      "\n"
     ]
    },
    {
     "name": "stdin",
     "output_type": "stream",
     "text": [
      "--> do you love SqlDB  yes\n"
     ]
    },
    {
     "name": "stdout",
     "output_type": "stream",
     "text": [
      "****YOU May Love Sql cook Book ****\n",
      "\n"
     ]
    },
    {
     "name": "stdin",
     "output_type": "stream",
     "text": [
      "--> do you love ProgrammingLanguge's  yes\n"
     ]
    },
    {
     "name": "stdout",
     "output_type": "stream",
     "text": [
      "****YOU May Love Python Book ****\n",
      "\n"
     ]
    },
    {
     "name": "stdin",
     "output_type": "stream",
     "text": [
      "do you love Astronomy book  yes\n",
      "do you love cosmology book  yes\n"
     ]
    },
    {
     "name": "stdout",
     "output_type": "stream",
     "text": [
      "you may love The First Three Minutes book \n",
      "\n"
     ]
    },
    {
     "name": "stdin",
     "output_type": "stream",
     "text": [
      "do you love astrostatistics book  yes\n"
     ]
    },
    {
     "name": "stdout",
     "output_type": "stream",
     "text": [
      "you may love Astrostatistics and Data Mining book \n",
      "\n"
     ]
    },
    {
     "name": "stdin",
     "output_type": "stream",
     "text": [
      "--> do you love Geography   yes\n",
      "--> do you love humanGeography  yes\n"
     ]
    },
    {
     "name": "stdout",
     "output_type": "stream",
     "text": [
      "****You May lovePopulation Geography Books ****\n",
      "\n"
     ]
    },
    {
     "name": "stdin",
     "output_type": "stream",
     "text": [
      "--> do you love Gis   yes\n"
     ]
    },
    {
     "name": "stdout",
     "output_type": "stream",
     "text": [
      "****YOU May Love web Gis Book ****\n",
      "\n"
     ]
    },
    {
     "name": "stdin",
     "output_type": "stream",
     "text": [
      "--> do you love Art's  yes\n",
      "--> do you love Drama yes\n"
     ]
    },
    {
     "name": "stdout",
     "output_type": "stream",
     "text": [
      "****You May love To words Zero Book ****\n",
      "\n"
     ]
    },
    {
     "name": "stdin",
     "output_type": "stream",
     "text": [
      "--> do you love Poetry yes\n"
     ]
    },
    {
     "name": "stdout",
     "output_type": "stream",
     "text": [
      "****YOU May Love milk and Honey Book ****\n",
      "\n"
     ]
    },
    {
     "name": "stdin",
     "output_type": "stream",
     "text": [
      "--> do you love Media yes\n",
      "--> do you love PrintMedia yes\n"
     ]
    },
    {
     "name": "stdout",
     "output_type": "stream",
     "text": [
      "****YOU May Love Reporting For the print Media Book ****\n",
      "\n"
     ]
    },
    {
     "name": "stdin",
     "output_type": "stream",
     "text": [
      "--> do you love BroadcastMedia yes\n"
     ]
    },
    {
     "name": "stdout",
     "output_type": "stream",
     "text": [
      "****You May love The Routledge Companion to history and moving the image Book ****\n",
      "\n"
     ]
    },
    {
     "name": "stdin",
     "output_type": "stream",
     "text": [
      "do you love novels? yes\n",
      "do you love Science Fiction novels? yes\n"
     ]
    },
    {
     "name": "stdout",
     "output_type": "stream",
     "text": [
      "i recommend Neuromancer 1984 to you \n"
     ]
    },
    {
     "name": "stdin",
     "output_type": "stream",
     "text": [
      "do you love Horror novels? yes\n"
     ]
    },
    {
     "name": "stdout",
     "output_type": "stream",
     "text": [
      "i recommend Heart-Shaped Box 2007 to you \n"
     ]
    },
    {
     "name": "stdin",
     "output_type": "stream",
     "text": [
      "do you love Young Adult novels? yes\n",
      "do you want new Young Adult novels? yes\n"
     ]
    },
    {
     "name": "stdout",
     "output_type": "stream",
     "text": [
      " i recommend The Fault in Our Stars 2012 to you \n"
     ]
    },
    {
     "name": "stdin",
     "output_type": "stream",
     "text": [
      "do you want old Young Adult novels? yes\n"
     ]
    },
    {
     "name": "stdout",
     "output_type": "stream",
     "text": [
      "i recommend Harry Potter 1997 to you\n"
     ]
    },
    {
     "name": "stdin",
     "output_type": "stream",
     "text": [
      "do you love Adventure fiction novels? yes\n"
     ]
    },
    {
     "name": "stdout",
     "output_type": "stream",
     "text": [
      "i recommend The Call of the Wild to you \n"
     ]
    },
    {
     "name": "stdin",
     "output_type": "stream",
     "text": [
      "do you love Psychological novels? yes\n"
     ]
    },
    {
     "name": "stdout",
     "output_type": "stream",
     "text": [
      "i recommend The Silent Patient to you \n"
     ]
    },
    {
     "name": "stdin",
     "output_type": "stream",
     "text": [
      "do you love Crime novels? yes\n"
     ]
    },
    {
     "name": "stdout",
     "output_type": "stream",
     "text": [
      "i recommend The Silence of the Lambs 1988 to you\n",
      " i recommend Destroyer Angel 2014 to you \n"
     ]
    },
    {
     "name": "stdin",
     "output_type": "stream",
     "text": [
      "do you love romantic novels? yes4\n",
      "do you love Historical novels? yes\n"
     ]
    },
    {
     "name": "stdout",
     "output_type": "stream",
     "text": [
      "i recommend The Pillars of the Earth 1989 to you \n"
     ]
    },
    {
     "name": "stdin",
     "output_type": "stream",
     "text": [
      "do you love Comedy? yes\n"
     ]
    },
    {
     "name": "stdout",
     "output_type": "stream",
     "text": [
      "i recommend A Confederacy of Dunces 1980 to you \n"
     ]
    },
    {
     "name": "stdin",
     "output_type": "stream",
     "text": [
      "do you love Fantasy novels? yes\n"
     ]
    },
    {
     "name": "stdout",
     "output_type": "stream",
     "text": [
      "i recommend A Wizard of Earthsea 1968 to you \n"
     ]
    }
   ],
   "source": [
    "class find_book (KnowledgeEngine):\n",
    "    @DefFacts()\n",
    "    def initial(self):\n",
    "        print(\"HEllo Now You Can Find Your Favourite Book  \\n Let's Try \")\n",
    "        yield Fact(action=\"find_book\")\n",
    "        ################################################################################################\n",
    "    @Rule (NOT (Fact(book=W())))\n",
    "    def val1(self):\n",
    "        self.declare(Fact(book=input(\"--> do you love book's \")))\n",
    "        ###############################################################################################\n",
    "    @Rule ( Fact(book=\"yes\"),NOT (Fact(Pyschology=W())))\n",
    "    def val2(self):\n",
    "        self.declare(Fact(Pyschology=input(\"--> do you love Pyschology\")))\n",
    "        ############################################################################################\n",
    "    @Rule ( Fact(book=\"yes\"), Fact(Pyschology=\"yes\"),NOT(Fact(SocialPsyclogy=W())))\n",
    "    def val3(self):\n",
    "        self.declare(Fact(SocialPsyclogy=input(\"--> do you love SocialPsyclogy\")))\n",
    "        ############################################################################################\n",
    "    @Rule ( Fact(book=\"yes\"), Fact(Pyschology=\"yes\"),NOT(Fact(HealthPsyclogy=W())))\n",
    "    def val4(self):\n",
    "        self.declare(Fact(HealthPsyclogy=input(\"--> do you love HealthPsyclogy\")))  \n",
    "     ####################################################################################################\n",
    "    @Rule ( Fact(book=\"yes\"), Fact(Pyschology=\"yes\"),Fact(SocialPsyclogy=\"yes\"))\n",
    "    def val5(self):\n",
    "        print(\"****YOU May Love Outhiers Book ****\\n\")\n",
    "        ############################################################################################\n",
    "    @Rule ( Fact(book=\"yes\"), Fact(Pyschology=\"yes\"),Fact(HealthPsyclogy=\"yes\"))\n",
    "    def val6(self):\n",
    "        print(\"****You May love why we sleep Book ****\\n\")\n",
    "     ####################################################################################################\n",
    "       ###############################################################################################\n",
    "    @Rule ( Fact(book=\"yes\"),NOT (Fact(Arts=W())))\n",
    "    def val7(self):\n",
    "        self.declare(Fact(Arts=input(\"--> do you love Art's \")))\n",
    "        ############################################################################################\n",
    "          ############################################################################################\n",
    "    @Rule ( Fact(book=\"yes\"), Fact(Arts=\"yes\"),NOT(Fact(Poetry=W())))\n",
    "    def val8(self):\n",
    "        self.declare(Fact(Poetry=input(\"--> do you love Poetry\")))\n",
    "        ############################################################################################\n",
    "    @Rule ( Fact(book=\"yes\"), Fact(Arts=\"yes\"),NOT(Fact(Drama=W())))\n",
    "    def val9(self):\n",
    "        self.declare(Fact(Drama=input(\"--> do you love Drama\")))  \n",
    "     ####################################################################################################\n",
    "    @Rule ( Fact(book=\"yes\"), Fact(Arts=\"yes\"),Fact(Poetry=\"yes\"))\n",
    "    def val10(self):\n",
    "        print(\"****YOU May Love milk and Honey Book ****\\n\")\n",
    "        ############################################################################################\n",
    "    @Rule ( Fact(book=\"yes\"), Fact(Arts=\"yes\"),Fact(Drama=\"yes\"))\n",
    "    def val11(self):\n",
    "        print(\"****You May love To words Zero Book ****\\n\")\n",
    "     ####################################################################################################\n",
    "       ###############################################################################################\n",
    "    @Rule ( Fact(book=\"yes\"),NOT (Fact(Media=W())))\n",
    "    def val12(self):\n",
    "        self.declare(Fact(Media=input(\"--> do you love Media\")))\n",
    "        ############################################################################################\n",
    "          ############################################################################################\n",
    "    @Rule ( Fact(book=\"yes\"), Fact(Media=\"yes\"),NOT(Fact(PrintMedia=W())))\n",
    "    def val13(self):\n",
    "        self.declare(Fact(PrintMedia=input(\"--> do you love PrintMedia\")))\n",
    "        ############################################################################################\n",
    "    @Rule ( Fact(book=\"yes\"), Fact(Media=\"yes\"),NOT(Fact(BroadcastMedia=W())))\n",
    "    def val14(self):\n",
    "        self.declare(Fact(BroadcastMedia=input(\"--> do you love BroadcastMedia\")))  \n",
    "     ####################################################################################################\n",
    "    @Rule ( Fact(book=\"yes\"), Fact(Media=\"yes\"),Fact(PrintMedia=\"yes\"))\n",
    "    def val15(self):\n",
    "        print(\"****YOU May Love Reporting For the print Media Book ****\\n\")\n",
    "        ############################################################################################\n",
    "    @Rule ( Fact(book=\"yes\"), Fact(Media=\"yes\"),Fact(BroadcastMedia=\"yes\"))\n",
    "    def val16(self):\n",
    "        print(\"****You May love The Routledge Companion to history and moving the image Book ****\\n\")\n",
    "     ####################################################################################################\n",
    "     ###############################################################################################\n",
    "    @Rule ( Fact(book=\"yes\"),NOT (Fact(MedicaScience=W())))\n",
    "    def val17(self):\n",
    "        self.declare(Fact(MedicaScience=input(\"--> do you love MedicaScience\")))\n",
    "    ###################################################################################################\n",
    "    @Rule ( Fact(book=\"yes\"), Fact(MedicaScience=\"yes\"),NOT(Fact(Pediatrics=W())))\n",
    "    def val18(self):\n",
    "        self.declare(Fact(Pediatrics=input(\"--> do you love Pediatric's \")))\n",
    "        ############################################################################################\n",
    "    @Rule ( Fact(book=\"yes\"), Fact(MedicaScience=\"yes\"),NOT(Fact(InternalMedicine=W())))\n",
    "    def val19(self):\n",
    "        self.declare(Fact(InternalMedicine=input(\"--> do you love InternalMedicine \")))  \n",
    "     ####################################################################################################\n",
    "    @Rule ( Fact(book=\"yes\"), Fact(MedicaScience=\"yes\"),Fact(Pediatrics=\"yes\"))\n",
    "    def val20(self):\n",
    "        print(\"****YOU May Love Illustrated Textbook of Pediatrics Book  ****\\n\")\n",
    "        ############################################################################################\n",
    "    @Rule ( Fact(book=\"yes\"), Fact(MedicaScience=\"yes\"),Fact(InternalMedicine=\"yes\"))\n",
    "    def val21(self):\n",
    "        print(\"****You May love pocket medicine Book ****\\n\")\n",
    "     ####################################################################################################     \n",
    "   ####################################################################################################\n",
    "    @Rule ( Fact(book=\"yes\"),NOT (Fact(EconomicsScience=W())))\n",
    "    def val22(self):\n",
    "        self.declare(Fact(EconomicsScience=input(\"--> do you love EconomicsScience\")))\n",
    "    ###################################################################################################\n",
    "    @Rule ( Fact(book=\"yes\"), Fact(EconomicsScience=\"yes\"),NOT(Fact(MicoroeconoMics=W())))\n",
    "    def val23(self):\n",
    "        self.declare(Fact(MicoroeconoMics=input(\"--> do you love MicoroeconoMic's \")))\n",
    "        ############################################################################################\n",
    "    @Rule ( Fact(book=\"yes\"), Fact(EconomicsScience=\"yes\"),NOT(Fact(MacoroeconoMics=W())))\n",
    "    def val24(self):\n",
    "        self.declare(Fact(MacoroeconoMics=input(\"--> do you love MacoroeconoMic's \")))  \n",
    "     ####################################################################################################\n",
    "    @Rule ( Fact(book=\"yes\"), Fact(EconomicsScience=\"yes\"),Fact(MicoroeconoMics=\"yes\"))\n",
    "    def val25(self):\n",
    "        print(\"****YOU May Love Principles of MicoroeconoMic's 2e  Book ****\\n\")\n",
    "        ############################################################################################\n",
    "    @Rule ( Fact(book=\"yes\"), Fact(EconomicsScience=\"yes\"),Fact(MacoroeconoMics=\"yes\"))\n",
    "    def val26(self):\n",
    "        print(\"****You May love Principles of MicoroeconoMic's 3e Book ****\\n\")\n",
    "     ####################################################################################################     \n",
    "    ####################################################################################################\n",
    "    @Rule ( Fact(book=\"yes\"),NOT (Fact(Engineering=W())))\n",
    "    def val27(self):\n",
    "        self.declare(Fact(Engineering=input(\"--> do you love Engineering\")))\n",
    "    ###################################################################################################\n",
    "    @Rule ( Fact(book=\"yes\"), Fact(Engineering=\"yes\"),NOT(Fact(Architecture=W())))\n",
    "    def val28(self):\n",
    "        self.declare(Fact(Architecture=input(\"--> do you love Architecture\")))\n",
    "        ############################################################################################\n",
    "    @Rule ( Fact(book=\"yes\"), Fact(Engineering=\"yes\"),NOT(Fact(civilEngineering=W())))\n",
    "    def val29(self):\n",
    "        self.declare(Fact(civilEngineering=input(\"--> do you love civilEngineering \")))  \n",
    "     ####################################################################################################\n",
    "    @Rule ( Fact(book=\"yes\"), Fact(Engineering=\"yes\"),Fact(Architecture=\"yes\"))\n",
    "    def val30(self):\n",
    "        print(\"****YOU May Love The Architecture of the the city Book ****\\n\")\n",
    "        ############################################################################################\n",
    "    @Rule ( Fact(book=\"yes\"), Fact(Engineering=\"yes\"),Fact(civilEngineering=\"yes\"))\n",
    "    def val31(self):\n",
    "        print(\"****You May love Pipefitter's Blue Book ****\\n\")\n",
    "     ####################################################################################################     \n",
    "     ####################################################################################################\n",
    "    @Rule ( Fact(book=\"yes\"),NOT (Fact(ComputerSciences=W())))\n",
    "    def val32(self):\n",
    "        self.declare(Fact(ComputerSciences=input(\"--> do you love ComputerScience's \")))\n",
    "    ###################################################################################################\n",
    "    @Rule ( Fact(book=\"yes\"), Fact(ComputerSciences=\"yes\"),NOT(Fact(ProgrammingLanguges=W())))\n",
    "    def val33(self):\n",
    "        self.declare(Fact(ProgrammingLanguges=input(\"--> do you love ProgrammingLanguge's \")))\n",
    "        ############################################################################################\n",
    "    @Rule ( Fact(book=\"yes\"), Fact(ComputerSciences=\"yes\"),Fact(ProgrammingLanguges=\"yes\"))\n",
    "    def val34(self):\n",
    "        print(\"****YOU May Love Python Book ****\\n\")\n",
    "        ############################################################################################\n",
    "    @Rule ( Fact(book=\"yes\"), Fact(ComputerSciences=\"yes\"),NOT(Fact(Database=W())))\n",
    "    def val35(self):\n",
    "        self.declare(Fact(Database=input(\"--> do you love Database \")))  \n",
    "     ####################################################################################################\n",
    "    @Rule ( Fact(book=\"yes\"), Fact(ComputerSciences=\"yes\"),Fact(Database=\"yes\"),NOT(Fact(SqlDB=W())))\n",
    "    def val36(self):\n",
    "        self.declare(Fact(SqlDB=input(\"--> do you love SqlDB \")))  \n",
    "     ####################################################################################################\n",
    "    @Rule ( Fact(book=\"yes\"), Fact(ComputerSciences=\"yes\"),Fact(Database=\"yes\"),Fact(SqlDB=\"yes\"))\n",
    "    def val37(self):\n",
    "        print(\"****YOU May Love Sql cook Book ****\\n\")  \n",
    "     #################################################################################################### \n",
    "    @Rule ( Fact(book=\"yes\"), Fact(ComputerSciences=\"yes\"),Fact(Database=\"yes\"),NOT(Fact(NoSqlDB=W())))\n",
    "    def val38(self):\n",
    "        self.declare(Fact(NoSqlDB=input(\"--> do you love NoSqlDB \")))  \n",
    "     ####################################################################################################\n",
    "    @Rule ( Fact(book=\"yes\"), Fact(ComputerSciences=\"yes\"),Fact(Database=\"yes\"),Fact(NoSqlDB=\"yes\"))\n",
    "    def val39(self):\n",
    "        print(\"****YOU May Love NoSql For Dummies Book ****\\n\")  \n",
    "     #################################################################################################### \n",
    "           ###########################################################################################\n",
    "    @Rule ( Fact(book=\"yes\"),NOT (Fact(Law=W())))\n",
    "    def val40(self):\n",
    "        self.declare(Fact(Law=input(\"--> do you love Law\")))\n",
    "    ###################################################################################################\n",
    "    @Rule ( Fact(book=\"yes\"), Fact(Law=\"yes\"),NOT(Fact(FamilyLaw=W())))\n",
    "    def val41(self):\n",
    "        self.declare(Fact(FamilyLaw=input(\"--> do you love FamilyLaw\")))\n",
    "        ############################################################################################\n",
    "    @Rule ( Fact(book=\"yes\"), Fact(Law=\"yes\"),NOT(Fact(CriminalLaw=W())))\n",
    "    def val42(self):\n",
    "        self.declare(Fact(CriminalLaw=input(\"--> do you love CriminalLaw \")))  \n",
    "     ####################################################################################################\n",
    "    @Rule ( Fact(book=\"yes\"), Fact(Law=\"yes\"),Fact(FamilyLaw=\"yes\"))\n",
    "    def val43(self):\n",
    "        print(\"****YOU May Love Family Law and Parctice Book ****\\n\")\n",
    "        ############################################################################################\n",
    "    @Rule ( Fact(book=\"yes\"), Fact(Law=\"yes\"),Fact(CriminalLaw=\"yes\"))\n",
    "    def val44(self):\n",
    "        print(\"****You May love Criminal Law Book****\\n\")\n",
    "     ####################################################################################################      \n",
    "            ###########################################################################################\n",
    "    @Rule ( Fact(book=\"yes\"),NOT (Fact(MatheMatics=W())))\n",
    "    def val45(self):\n",
    "        self.declare(Fact(MatheMatics=input(\"--> do you love MatheMatics \")))\n",
    "    ###################################################################################################\n",
    "    @Rule ( Fact(book=\"yes\"), Fact(MatheMatics=\"yes\"),NOT(Fact(Algebra=W())))\n",
    "    def val46(self):\n",
    "        self.declare(Fact(Algebra=input(\"--> do you love Algebra \")))\n",
    "        ############################################################################################\n",
    "    @Rule ( Fact(book=\"yes\"), Fact(MatheMatics=\"yes\"),NOT(Fact(Calulus=W())))\n",
    "    def val47(self):\n",
    "        self.declare(Fact(Calulus=input(\"--> do you love Calulus \")))  \n",
    "     ####################################################################################################\n",
    "    @Rule ( Fact(book=\"yes\"), Fact(MatheMatics=\"yes\"),Fact(Algebra=\"yes\"))\n",
    "    def val48(self):\n",
    "        print(\"****YOU May Love Abstract algebra Book ****\\n\")\n",
    "        ############################################################################################\n",
    "    @Rule ( Fact(book=\"yes\"), Fact(MatheMatics=\"yes\"),Fact(Calulus=\"yes\"))\n",
    "    def val49(self):\n",
    "        print(\"****You May love intermediate calculus Book****\\n\")\n",
    "     ####################################################################################################     \n",
    "              ###########################################################################################\n",
    "    @Rule ( Fact(book=\"yes\"),NOT (Fact(Encyelodia=W())))\n",
    "    def val50(self):\n",
    "        self.declare(Fact(Encyelodia=input(\"--> do you love Encyelodia  \")))\n",
    "    ###################################################################################################\n",
    "    @Rule ( Fact(book=\"yes\"), Fact(Encyelodia=\"yes\"),NOT(Fact(OnlineElcyloepedia=W())))\n",
    "    def val51(self):\n",
    "        self.declare(Fact(OnlineElcyloepedia=input(\"--> do you love OnlineElcyloepedia  \")))\n",
    "        ############################################################################################\n",
    "    @Rule ( Fact(book=\"yes\"), Fact(Encyelodia=\"yes\"),NOT(Fact(GeneralElcyloepedia =W())))\n",
    "    def val52(self):\n",
    "        self.declare(Fact(GeneralElcyloepedia=input(\"--> do you love GeneralElcyloepedia \")))  \n",
    "     ####################################################################################################\n",
    "    @Rule ( Fact(book=\"yes\"), Fact(Encyelodia=\"yes\"),Fact(OnlineElcyloepedia=\"yes\"))\n",
    "    def val53(self):\n",
    "        print(\"****YOU May Love Eductional platforms Book ****\\n\")\n",
    "        ############################################################################################\n",
    "    @Rule ( Fact(book=\"yes\"), Fact(Encyelodia=\"yes\"),Fact(GeneralElcyloepedia=\"yes\"))\n",
    "    def val54(self):\n",
    "        print(\"****You May love Elcyloepedia year Books ****\\n\")\n",
    "     ####################################################################################################     \n",
    "         ###########################################################################################\n",
    "    @Rule ( Fact(book=\"yes\"),NOT (Fact(Geography=W())))\n",
    "    def val55(self):\n",
    "        self.declare(Fact(Geography=input(\"--> do you love Geography  \")))\n",
    "    ###################################################################################################\n",
    "    @Rule ( Fact(book=\"yes\"), Fact(Geography=\"yes\"),NOT(Fact(Gis=W())))\n",
    "    def val56(self):\n",
    "        self.declare(Fact(Gis=input(\"--> do you love Gis  \")))\n",
    "        ############################################################################################\n",
    "    @Rule ( Fact(book=\"yes\"), Fact(Geography=\"yes\"),NOT(Fact(humanGeography=W())))\n",
    "    def val57(self):\n",
    "        self.declare(Fact(humanGeography=input(\"--> do you love humanGeography \")))  \n",
    "     ####################################################################################################\n",
    "    @Rule ( Fact(book=\"yes\"), Fact(Geography=\"yes\"),Fact(Gis=\"yes\"))\n",
    "    def val58(self):\n",
    "        print(\"****YOU May Love web Gis Book ****\\n\")\n",
    "        ############################################################################################\n",
    "    @Rule ( Fact(book=\"yes\"), Fact(Geography=\"yes\"),Fact(humanGeography=\"yes\"))\n",
    "    def val59(self):\n",
    "        print(\"****You May lovePopulation Geography Books ****\\n\")\n",
    "     ####################################################################################################     \n",
    "        ###########################################################################################\n",
    "    @Rule ( Fact(book=\"yes\"),NOT (Fact(Religions=W())))\n",
    "    def val60(self):\n",
    "        self.declare(Fact(Religions=input(\"--> do you love Religions  \")))\n",
    "    ###################################################################################################\n",
    "    @Rule ( Fact(book=\"yes\"), Fact(Religions=\"yes\"),NOT(Fact(theTorah=W())))\n",
    "    def val61(self):\n",
    "        self.declare(Fact(theTorah=input(\"--> do you love theTorah  \")))\n",
    "        ############################################################################################\n",
    "    @Rule ( Fact(book=\"yes\"), Fact(Religions=\"yes\"),NOT(Fact(theQuran=W())))\n",
    "    def val62(self):\n",
    "        self.declare(Fact(theQuran=input(\"--> do you love theQuran \")))  \n",
    "     ####################################################################################################\n",
    "    @Rule ( Fact(book=\"yes\"), Fact(Religions=\"yes\"),Fact(theTorah=\"yes\"))\n",
    "    def val63(self):\n",
    "        print(\"****YOU May Love the Torah Book ****\\n\")\n",
    "        ############################################################################################\n",
    "    @Rule ( Fact(book=\"yes\"), Fact(Religions=\"yes\"),Fact(theQuran=\"yes\"))\n",
    "    def val64(self):\n",
    "        print(\"****You May love the Quran Books ****\\n\")\n",
    "     ####################################################################################################     \n",
    "         ###################################################################################################################\n",
    "    @Rule(Fact(book = \"yes\"),NOT(Fact(Language = W())))\n",
    "    def val65(self):\n",
    "        self.declare(Fact(Language = input(\"do you love Language books \")))\n",
    "        ###############################################################################################################\n",
    "    @Rule(Fact(book = \"yes\"), Fact(Language = \"yes\"), NOT(Fact(English = W())))\n",
    "    def val66(self):\n",
    "        self.declare(Fact(English = input(\"do you love English Languge book \")))\n",
    "        ###############################################################################################################\n",
    "    @Rule(Fact(book = \"yes\"), Fact(Language = \"yes\"), Fact(English = \"yes\"))\n",
    "    def val67(self):\n",
    "        print(\"you may love English for Everyone Language book \\n \")\n",
    "        ################################################################################################################\n",
    "    @Rule(Fact(book = \"yes\"), Fact(Language = \"yes\"), NOT(Fact(German = W())))\n",
    "    def val68(self):\n",
    "        self.declare(Fact(German = input(\"do you love German Languge book \")))\n",
    "        ###############################################################################################################\n",
    "    @Rule(Fact(book = \"yes\"), Fact(Language = \"yes\"),Fact(German = \"yes\"))\n",
    "    def val69(self):\n",
    "        print(\"you may love German All-in-One language book \\n\")\n",
    "        ##############################################################################################################\n",
    "              ######################################################################################\n",
    "    @Rule(Fact(book = \"yes\"),NOT(Fact(Astronomy = W())))\n",
    "    def val70(self):\n",
    "        self.declare(Fact(Astronomy = input(\"do you love Astronomy book \")))\n",
    "        #########################################################################################################\n",
    "    @Rule(Fact(book = \"yes\"), Fact(Astronomy = \"yes\"), NOT(Fact(astrostatistics = W())))\n",
    "    def val71(self):\n",
    "        self.declare(Fact(astrostatistics = input(\"do you love astrostatistics book \")))\n",
    "        ########################################################################################################\n",
    "    \n",
    "    @Rule(Fact(book = \"yes\"), Fact( Astronomy= \"yes\"),Fact(astrostatistics = \"yes\"))\n",
    "    def val72(self):\n",
    "        print(\"you may love Astrostatistics and Data Mining book \\n\")\n",
    "        #######################################################################################################\n",
    "             \n",
    "    @Rule(Fact(book = \"yes\"), Fact(Astronomy = \"yes\"), NOT(Fact(cosmology = W())))\n",
    "    def val73(self):\n",
    "        self.declare(Fact(cosmology = input(\"do you love cosmology book \")))\n",
    "        #######################################################################################################\n",
    "    \n",
    "    @Rule(Fact(book = \"yes\"), Fact(Astronomy = \"yes\"),Fact(cosmology = \"yes\"))\n",
    "    def val74(self):\n",
    "        print(\"you may love The First Three Minutes book \\n\")\n",
    "        ######################################################################################################\n",
    "            ##################################################################################\n",
    "    @Rule(Fact(book = \"yes\"), NOT(Fact(Plant_Sciences = W())))\n",
    "    def val75(self):\n",
    "        self.declare(Fact(Plant_Sciences = input(\"do you love Plant_Sciences book \")))\n",
    "        ######################################################################################################\n",
    "    @Rule(Fact(book = \"yes\"), Fact(Plant_Sciences = \"yes\"))    \n",
    "    def val78(self):\n",
    "        print(\"you may love Plant_Sciences book \\n\")\n",
    "        ####################################################################################################\n",
    "    @Rule(Fact(book = \"yes\"), Fact(Plant_Sciences = \"yes\"), NOT(Fact(Cytology = W())))\n",
    "    def val79(self):\n",
    "        self.declare(Fact(Cytology = input(\"do you love Cytology book \")))\n",
    "        ####################################################################################################\n",
    "    @Rule(Fact(book = \"yes\"), Fact(Plant_Sciences = \"yes\"),Fact(Cytology = \"yes\"))\n",
    "    def val80(self):\n",
    "        print(\"you may love Cytology,5th Edition book \\n\")\n",
    "        ###################################################################################################\n",
    "    @Rule(Fact(book = \"yes\"), Fact(Plant_Sciences = \"yes\"), NOT(Fact(Epigenetics = W())))\n",
    "    def val81(self):\n",
    "        self.declare(Fact(Epigenetics = input(\"do you love Epigenetics book \")))\n",
    "        ####################################################################################################\n",
    "    @Rule(Fact(book = \"yes\"), Fact(Plant_Sciences = \"yes\"),Fact(Epigenetics = \"yes\"))\n",
    "    def val82(self):\n",
    "        print(\"you may love introduction to Epigenetics book \\n\")\n",
    "        ####################################################################################################\n",
    "             ###########################################################################################   \n",
    "    @Rule(Fact(book = \"yes\"),NOT(Fact(Animal_Sciences = W())))\n",
    "    def val83(self):\n",
    "        self.declare(Fact(Animal_Sciences = input(\"do you love Animal _sciences book \")))\n",
    "        ###################################################################################################\n",
    "        \n",
    "    @Rule(Fact(book = \"yes\"), Fact(Animal_Sciences = \"yes\"))    \n",
    "    def val84(self):\n",
    "        print(\"you may love Animal_Sciences book \\n\")\n",
    "        ##################################################################################################\n",
    "        \n",
    "    @Rule(Fact(book = \"yes\"), Fact(Animal_Sciences = \"yes\"), NOT(Fact(physiology = W())))\n",
    "    def val85(self):\n",
    "        self.declare(Fact(physiology = input(\"do you love physiology book \")))\n",
    "        ##################################################################################################\n",
    "        \n",
    "    @Rule(Fact(book = \"yes\"), Fact(Plant_Sciences = \"yes\"),Fact(physiology = \"yes\" ))\n",
    "    def val86(self):\n",
    "        print(\"you may love Gray's Anatomy for Students international Edition book \\n\")\n",
    "        #################################################################################################\n",
    "        \n",
    "    @Rule(Fact(book = \"yes\"), Fact(Animal_Sciences = \"yes\"), NOT(Fact(Epigenetics = W())))\n",
    "    def val87(self):\n",
    "        self.declare(Fact(Epigenetics = input(\"do you love Epigenetics book \")))\n",
    "        ################################################################################################\n",
    "        \n",
    "    @Rule(Fact(book = \"yes\"), Fact(Animal_Sciences = \"yes\"),Fact(Epigenetics = \"yes\"))\n",
    "    def val88(self):\n",
    "        print(\"you may love introduction to Epigenetics book \\n\")\n",
    "       ####################################################################################################\n",
    "          #############################################################################################\n",
    "    @Rule(Fact(book=\"yes\"),NOT (Fact(Industries= W())))\n",
    "    def val89(self):\n",
    "        self.declare(Fact(Industries=input(\"do you love Industries books?\")))\n",
    "     ##################################################################################################################   \n",
    "    @Rule(Fact(book=\"yes\"),Fact(Industries=\"yes\") , NOT (Fact(Chemical= W())))\n",
    "    def val90(self):\n",
    "        self.declare(Fact(Chemical=input(\"do you love Chemical Industries books ?\")))\n",
    "     #################################################################################################################   \n",
    "    @Rule(Fact(book=\"yes\"),Fact(Industries=\"yes\") ,NOT (Fact(Basic= W())))\n",
    "    def val91(self):\n",
    "        self.declare(Fact(Basic=input(\"do you love Basic Metal-Production books?\")))\n",
    "     ##################################################################################################################   \n",
    "    @Rule(Fact(book=\"yes\"),Fact(Industries=\"yes\") ,Fact(Basic=\"yes\"))\n",
    "    def val92(self):\n",
    "        print(\"i recommend Principles Of Extractive Metallurgy to you\")\n",
    "    ##################################################################################################################\n",
    "    @Rule(Fact(book=\"yes\"),Fact(Industries=\"yes\") ,Fact(Chemical=\"yes\"))\n",
    "    def val93(self):\n",
    "        print(\"Handbook Of Chemical Industries\")\n",
    "    ##################################################################################################################\n",
    "                  ######################################################################################\n",
    "    @Rule(Fact(book=\"yes\"),NOT (Fact(Fine_Arts= W())))\n",
    "    def val94(self):\n",
    "        self.declare(Fact(Fine_Arts=input(\"do you love Fine Arts books?\")))\n",
    "    ##################################################################################################################   \n",
    "    @Rule(Fact(book=\"yes\"),Fact(Fine_Arts=\"yes\") , NOT (Fact(Draw= W())))\n",
    "    def val95(self):\n",
    "        self.declare(Fact(Draw=input(\"do you love drawing books ?\")))\n",
    "    ##################################################################################################################   \n",
    "    @Rule(Fact(book=\"yes\"),Fact(Fine_Arts=\"yes\") ,NOT (Fact(Music= W())))\n",
    "    def val96(self):\n",
    "        self.declare(Fact(Music=input(\"do you love music books?\")))\n",
    "    ##################################################################################################################   \n",
    "    @Rule(Fact(book=\"yes\"),Fact(Fine_Arts=\"yes\") ,Fact(Music=\"yes\"))\n",
    "    def val96(self):\n",
    "        print(\" i recommend How Music Works to you\")\n",
    "    ##################################################################################################################   \n",
    "    @Rule(Fact(book=\"yes\"),Fact(Fine_Arts=\"yes\") ,Fact(Draw=\"yes\"))\n",
    "    def val97(self):\n",
    "        print(\"i recommend The Art Book to you \")\n",
    "    ##################################################################################################################\n",
    "    ####################################################################################################\n",
    "    @Rule(Fact(book=\"yes\"),NOT (Fact(History= W())))\n",
    "    def val98(self):\n",
    "        self.declare(Fact(History=input(\"do you love History books?\")))\n",
    "     ##################################################################################################################   \n",
    "    @Rule(Fact(book=\"yes\"),Fact(History=\"yes\") , NOT (Fact(Biography= W())))\n",
    "    def val99(self):\n",
    "        self.declare(Fact(Biography=input(\"do you love Biography books?\")))\n",
    "    ##################################################################################################################    \n",
    "    @Rule(Fact(book=\"yes\"),Fact(History=\"yes\") ,Fact(Biography=\"yes\"))\n",
    "    def val100(self):\n",
    "        print(\"i recommend Autobiography to you\")\n",
    "    ##################################################################################################################    \n",
    "    @Rule(Fact(book=\"yes\"),Fact(History=\"yes\") ,NOT (Fact(social= W())))\n",
    "    def val101(self):\n",
    "        self.declare(Fact(social=input(\"do you love social history books?\")))\n",
    "     ##################################################################################################################  \n",
    "    @Rule(Fact(book=\"yes\"),Fact(History=\"yes\") ,Fact(social=\"yes\"))\n",
    "    def val102(self):\n",
    "        print(\" i recommend Race and ethnicity to you\")\n",
    "    ##################################################################################################################\n",
    "             ###############################################################################################\n",
    "    @Rule(Fact(book=\"yes\"),NOT (Fact(Geology= W())))\n",
    "    def val103(self):\n",
    "        self.declare(Fact(Geology=input(\"do you love Geology books?\")))\n",
    "    ##################################################################################################################   \n",
    "    @Rule(Fact(book=\"yes\"),Fact(Geology=\"yes\") , NOT (Fact(structural= W())))\n",
    "    def val104(self):\n",
    "        self.declare(Fact(structural=input(\"do you love structural Geology books?\")))\n",
    "    ##################################################################################################################   \n",
    "    @Rule(Fact(book=\"yes\"),Fact(Geology=\"yes\") ,Fact(structural=\"yes\"))\n",
    "    def val105(self):\n",
    "        print(\"i recommend Structural Mapping to you\")\n",
    "    ##################################################################################################################   \n",
    "    @Rule(Fact(book=\"yes\"),Fact(Geology=\"yes\") ,NOT (Fact(volcanology= W())))\n",
    "    def val106(self):\n",
    "        self.declare(Fact(volcanology=input(\"do you love volcanology Geology books?\")))\n",
    "    ##################################################################################################################   \n",
    "    @Rule(Fact(book=\"yes\"),Fact(Geology=\"yes\") ,Fact(volcanology=\"yes\"))\n",
    "    def val107(self):\n",
    "        print(\" i recommend introduction to volcanology to you\")\n",
    "\n",
    "    ##################################################################################################################\n",
    "                ###############################################################################################\n",
    "                                #***********THE RULES IN BOOKS FINISH*********************************\n",
    "\n",
    "            #<------------ LETS GO TO BEGIN IN NOVELS--------------------------------------->\n",
    "            \n",
    "            \n",
    "    @Rule(NOT (Fact(novel= W())))\n",
    "    def value1(self):\n",
    "        self.declare(Fact(novel=input(\"do you love novels?\")))\n",
    "      #######################################################\n",
    "    @Rule(Fact(novel=\"yes\"),NOT (Fact(Horror= W())))\n",
    "    def value10(self):\n",
    "        self.declare(Fact(Horror=input(\"do you love Horror novels?\")))\n",
    "        \n",
    "    @Rule(Fact(novel=\"yes\"),Fact(Horror=\"yes\"))\n",
    "    def value11(self):\n",
    "        print(\"i recommend Heart-Shaped Box 2007 to you \")\n",
    "        #######################################################\n",
    "    @Rule(Fact(novel=\"yes\"),NOT (Fact(Science_Fiction= W())))\n",
    "    def value12(self):\n",
    "        self.declare(Fact(Science_Fiction=input(\"do you love Science Fiction novels?\")))\n",
    "        \n",
    "    @Rule(Fact(novel=\"yes\"),Fact(Science_Fiction=\"yes\"))\n",
    "    def value13(self):\n",
    "        print(\"i recommend Neuromancer 1984 to you \")\n",
    "       #######################################################\n",
    "    @Rule(Fact(novel=\"yes\"),NOT (Fact(Historical= W())))\n",
    "    def value14(self):\n",
    "        self.declare(Fact(Historical=input(\"do you love Historical novels?\")))\n",
    "    \n",
    "    @Rule(Fact(novel=\"yes\"),Fact(Historical=\"yes\"))\n",
    "    def value15(self):\n",
    "        print(\"i recommend The Pillars of the Earth 1989 to you \")\n",
    "        #######################################################\n",
    "    @Rule(Fact(novel=\"yes\"),NOT (Fact(Fantasy= W())))\n",
    "    def value16(self):\n",
    "        self.declare(Fact(Fantasy=input(\"do you love Fantasy novels?\")))\n",
    "    \n",
    "    @Rule(Fact(novel=\"yes\"),Fact(Fantasy=\"yes\"))\n",
    "    def value17(self):\n",
    "        print(\"i recommend A Wizard of Earthsea 1968 to you \")\n",
    "        #######################################################\n",
    "    @Rule(Fact(novel=\"yes\"),NOT (Fact(Comedy= W())))\n",
    "    def value18(self):\n",
    "        self.declare(Fact(Comedy=input(\"do you love Comedy?\")))\n",
    "    \n",
    "    @Rule(Fact(novel=\"yes\"),Fact(Comedy=\"yes\"))\n",
    "    def value19(self):\n",
    "        print(\"i recommend A Confederacy of Dunces 1980 to you \") \n",
    "        #######################################################\n",
    "    @Rule(Fact(novel=\"yes\"),NOT (Fact(Anime= W())))\n",
    "    def value20(self):\n",
    "        self.declare(Fact(Anime=input(\"do you love Anime novels?\")))\n",
    "    \n",
    "    @Rule(Fact(novel=\"yes\"),Fact(Anime=\"yes\"))\n",
    "    def value21(self):\n",
    "        print(\"i recommend Three Days of Happiness to you \")\n",
    "        #######################################################\n",
    "    @Rule(Fact(novel=\"yes\"),NOT (Fact(Children= W())))\n",
    "    def value20(self):\n",
    "        self.declare(Fact(Children=input(\"do you love Children's literature novels?\")))\n",
    "    \n",
    "    @Rule(Fact(novel=\"yes\"),Fact(Children=\"yes\"))\n",
    "    def value21(self):\n",
    "        print(\"i recommend Matilda to you \")\n",
    "        #######################################################\n",
    "    @Rule(Fact(novel=\"yes\"),NOT (Fact(Psychological= W())))\n",
    "    def value20(self):\n",
    "        self.declare(Fact(Psychological=input(\"do you love Psychological novels?\")))\n",
    "    \n",
    "    @Rule(Fact(novel=\"yes\"),Fact(Psychological=\"yes\"))\n",
    "    def value21(self):\n",
    "        print(\"i recommend The Silent Patient to you \")\n",
    "        #######################################################\n",
    "    @Rule(Fact(novel=\"yes\"),NOT (Fact(Adventure= W())))\n",
    "    def value22(self):\n",
    "        self.declare(Fact(Adventure=input(\"do you love Adventure fiction novels?\")))\n",
    "    \n",
    "    @Rule(Fact(novel=\"yes\"),Fact(Adventure=\"yes\"))\n",
    "    def value23(self):\n",
    "        print(\"i recommend The Call of the Wild to you \")\n",
    "        #######################################################\n",
    "        \n",
    "    @Rule(Fact(novel=\"yes\"),NOT (Fact(romantic= W())))\n",
    "    def value24(self):\n",
    "        self.declare(Fact(romantic=input(\"do you love romantic novels?\")))\n",
    "        \n",
    "    @Rule(Fact(novel=\"yes\"),Fact(romantic=\"yes\") , NOT(Fact(new=W())))\n",
    "    def value25(self):\n",
    "        self.declare(Fact(new=input(\"do you want new romantic novels?\")))\n",
    "        \n",
    "    @Rule(Fact(novel=\"yes\"),Fact(romantic=\"yes\") ,Fact(new=\"yes\"))\n",
    "    def value26(self):\n",
    "        print(\" i recommend Call Me by Your Name 2007 to you \")\n",
    "        \n",
    "    @Rule(Fact(novel=\"yes\"),Fact(romantic=\"yes\") , NOT(Fact(old=W())))\n",
    "    def value27(self):\n",
    "        self.declare(Fact(old=input(\"do you want old romantic novels?\")))\n",
    "        \n",
    "    @Rule(Fact(novel=\"yes\"),Fact(romantic=\"yes\") ,Fact(old=\"yes\"))\n",
    "    def value28(self):\n",
    "        print(\"i recommend Pride and Prejudice 1813 to you\")\n",
    "        #######################################################\n",
    "    @Rule(Fact(novel=\"yes\"),NOT (Fact(Crime= W())))\n",
    "    def value29(self):\n",
    "        self.declare(Fact(Crime=input(\"do you love Crime novels?\")))\n",
    "        \n",
    "    @Rule(Fact(novel=\"yes\"),Fact(Crime=\"yes\") , NOT(Fact(new=W())))\n",
    "    def value30(self):\n",
    "        self.declare(Fact(new=input(\"do you want new Crime novels?\")))\n",
    "        \n",
    "    @Rule(Fact(novel=\"yes\"),Fact(Crime=\"yes\") ,Fact(new=\"yes\"))\n",
    "    def value31(self):\n",
    "        print(\" i recommend Destroyer Angel 2014 to you \")\n",
    "        \n",
    "    @Rule(Fact(novel=\"yes\"),Fact(Crime=\"yes\") , NOT(Fact(old=W())))\n",
    "    def value32(self):\n",
    "        self.declare(Fact(old=input(\"do you want old Crime novels?\")))\n",
    "        \n",
    "    @Rule(Fact(novel=\"yes\"),Fact(Crime=\"yes\") ,Fact(old=\"yes\"))\n",
    "    def value33(self):\n",
    "        print(\"i recommend The Silence of the Lambs 1988 to you\")\n",
    "      #######################################################\n",
    "    @Rule(Fact(novel=\"yes\"),NOT (Fact(Adult= W())))\n",
    "    def value34(self):\n",
    "        self.declare(Fact(Adult=input(\"do you love Young Adult novels?\")))\n",
    "        \n",
    "    @Rule(Fact(novel=\"yes\"),Fact(Adult=\"yes\") , NOT(Fact(new=W())))\n",
    "    def value35(self):\n",
    "        self.declare(Fact(new=input(\"do you want new Young Adult novels?\")))\n",
    "        \n",
    "    @Rule(Fact(novel=\"yes\"),Fact(Adult=\"yes\") ,Fact(new=\"yes\"))\n",
    "    def value36(self):\n",
    "        print(\" i recommend The Fault in Our Stars 2012 to you \")\n",
    "        \n",
    "    @Rule(Fact(novel=\"yes\"),Fact(Adult=\"yes\") , NOT(Fact(old=W())))\n",
    "    def value37(self):\n",
    "        self.declare(Fact(old=input(\"do you want old Young Adult novels?\")))\n",
    "        \n",
    "    @Rule(Fact(novel=\"yes\"),Fact(Adult=\"yes\") ,Fact(old=\"yes\"))\n",
    "    def value38(self):\n",
    "        print(\"i recommend Harry Potter 1997 to you\")\n",
    "        #######################################################\n",
    "        \n",
    "            \n",
    "            \n",
    "engine=find_book()\n",
    "engine.reset()\n",
    "engine.run()"
   ]
  },
  {
   "cell_type": "code",
   "execution_count": null,
   "id": "e75bf217",
   "metadata": {},
   "outputs": [],
   "source": []
  }
 ],
 "metadata": {
  "kernelspec": {
   "display_name": "Python 3 (ipykernel)",
   "language": "python",
   "name": "python3"
  },
  "language_info": {
   "codemirror_mode": {
    "name": "ipython",
    "version": 3
   },
   "file_extension": ".py",
   "mimetype": "text/x-python",
   "name": "python",
   "nbconvert_exporter": "python",
   "pygments_lexer": "ipython3",
   "version": "3.8.18"
  }
 },
 "nbformat": 4,
 "nbformat_minor": 5
}
